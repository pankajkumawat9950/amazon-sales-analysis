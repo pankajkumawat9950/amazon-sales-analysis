{
 "cells": [
  {
   "cell_type": "code",
   "execution_count": 1,
   "id": "7ff89a5c-1bc2-4dd5-bd7d-0a0b7c7d924c",
   "metadata": {},
   "outputs": [],
   "source": [
    "import pandas as pd\n",
    "import numpy as np\n",
    "import matplotlib.pyplot as plt\n",
    "import seaborn as sns"
   ]
  },
  {
   "cell_type": "code",
   "execution_count": 2,
   "id": "5c77f973-ab75-4090-8a2e-1f4cbb066640",
   "metadata": {},
   "outputs": [],
   "source": [
    "df = pd.read_csv(\"Amazon_Sale_Report.csv\",low_memory=False)"
   ]
  },
  {
   "cell_type": "code",
   "execution_count": 3,
   "id": "cc4fb370-69a1-4a1f-a276-ce9684c6ee17",
   "metadata": {},
   "outputs": [
    {
     "data": {
      "text/html": [
       "<div>\n",
       "<style scoped>\n",
       "    .dataframe tbody tr th:only-of-type {\n",
       "        vertical-align: middle;\n",
       "    }\n",
       "\n",
       "    .dataframe tbody tr th {\n",
       "        vertical-align: top;\n",
       "    }\n",
       "\n",
       "    .dataframe thead th {\n",
       "        text-align: right;\n",
       "    }\n",
       "</style>\n",
       "<table border=\"1\" class=\"dataframe\">\n",
       "  <thead>\n",
       "    <tr style=\"text-align: right;\">\n",
       "      <th></th>\n",
       "      <th>index</th>\n",
       "      <th>Order ID</th>\n",
       "      <th>Date</th>\n",
       "      <th>Status</th>\n",
       "      <th>Fulfilment</th>\n",
       "      <th>Sales Channel</th>\n",
       "      <th>ship-service-level</th>\n",
       "      <th>Style</th>\n",
       "      <th>SKU</th>\n",
       "      <th>Category</th>\n",
       "      <th>...</th>\n",
       "      <th>currency</th>\n",
       "      <th>Amount</th>\n",
       "      <th>ship-city</th>\n",
       "      <th>ship-state</th>\n",
       "      <th>ship-postal-code</th>\n",
       "      <th>ship-country</th>\n",
       "      <th>promotion-ids</th>\n",
       "      <th>B2B</th>\n",
       "      <th>fulfilled-by</th>\n",
       "      <th>Unnamed: 22</th>\n",
       "    </tr>\n",
       "  </thead>\n",
       "  <tbody>\n",
       "    <tr>\n",
       "      <th>0</th>\n",
       "      <td>0</td>\n",
       "      <td>405-8078784-5731545</td>\n",
       "      <td>04-30-22</td>\n",
       "      <td>Cancelled</td>\n",
       "      <td>Merchant</td>\n",
       "      <td>Amazon.in</td>\n",
       "      <td>Standard</td>\n",
       "      <td>SET389</td>\n",
       "      <td>SET389-KR-NP-S</td>\n",
       "      <td>Set</td>\n",
       "      <td>...</td>\n",
       "      <td>INR</td>\n",
       "      <td>647.62</td>\n",
       "      <td>MUMBAI</td>\n",
       "      <td>MAHARASHTRA</td>\n",
       "      <td>400081.0</td>\n",
       "      <td>IN</td>\n",
       "      <td>NaN</td>\n",
       "      <td>False</td>\n",
       "      <td>Easy Ship</td>\n",
       "      <td>NaN</td>\n",
       "    </tr>\n",
       "    <tr>\n",
       "      <th>1</th>\n",
       "      <td>1</td>\n",
       "      <td>171-9198151-1101146</td>\n",
       "      <td>04-30-22</td>\n",
       "      <td>Shipped - Delivered to Buyer</td>\n",
       "      <td>Merchant</td>\n",
       "      <td>Amazon.in</td>\n",
       "      <td>Standard</td>\n",
       "      <td>JNE3781</td>\n",
       "      <td>JNE3781-KR-XXXL</td>\n",
       "      <td>kurta</td>\n",
       "      <td>...</td>\n",
       "      <td>INR</td>\n",
       "      <td>406.00</td>\n",
       "      <td>BENGALURU</td>\n",
       "      <td>KARNATAKA</td>\n",
       "      <td>560085.0</td>\n",
       "      <td>IN</td>\n",
       "      <td>Amazon PLCC Free-Financing Universal Merchant ...</td>\n",
       "      <td>False</td>\n",
       "      <td>Easy Ship</td>\n",
       "      <td>NaN</td>\n",
       "    </tr>\n",
       "    <tr>\n",
       "      <th>2</th>\n",
       "      <td>2</td>\n",
       "      <td>404-0687676-7273146</td>\n",
       "      <td>04-30-22</td>\n",
       "      <td>Shipped</td>\n",
       "      <td>Amazon</td>\n",
       "      <td>Amazon.in</td>\n",
       "      <td>Expedited</td>\n",
       "      <td>JNE3371</td>\n",
       "      <td>JNE3371-KR-XL</td>\n",
       "      <td>kurta</td>\n",
       "      <td>...</td>\n",
       "      <td>INR</td>\n",
       "      <td>329.00</td>\n",
       "      <td>NAVI MUMBAI</td>\n",
       "      <td>MAHARASHTRA</td>\n",
       "      <td>410210.0</td>\n",
       "      <td>IN</td>\n",
       "      <td>IN Core Free Shipping 2015/04/08 23-48-5-108</td>\n",
       "      <td>True</td>\n",
       "      <td>NaN</td>\n",
       "      <td>NaN</td>\n",
       "    </tr>\n",
       "    <tr>\n",
       "      <th>3</th>\n",
       "      <td>3</td>\n",
       "      <td>403-9615377-8133951</td>\n",
       "      <td>04-30-22</td>\n",
       "      <td>Cancelled</td>\n",
       "      <td>Merchant</td>\n",
       "      <td>Amazon.in</td>\n",
       "      <td>Standard</td>\n",
       "      <td>J0341</td>\n",
       "      <td>J0341-DR-L</td>\n",
       "      <td>Western Dress</td>\n",
       "      <td>...</td>\n",
       "      <td>INR</td>\n",
       "      <td>753.33</td>\n",
       "      <td>PUDUCHERRY</td>\n",
       "      <td>PUDUCHERRY</td>\n",
       "      <td>605008.0</td>\n",
       "      <td>IN</td>\n",
       "      <td>NaN</td>\n",
       "      <td>False</td>\n",
       "      <td>Easy Ship</td>\n",
       "      <td>NaN</td>\n",
       "    </tr>\n",
       "    <tr>\n",
       "      <th>4</th>\n",
       "      <td>4</td>\n",
       "      <td>407-1069790-7240320</td>\n",
       "      <td>04-30-22</td>\n",
       "      <td>Shipped</td>\n",
       "      <td>Amazon</td>\n",
       "      <td>Amazon.in</td>\n",
       "      <td>Expedited</td>\n",
       "      <td>JNE3671</td>\n",
       "      <td>JNE3671-TU-XXXL</td>\n",
       "      <td>Top</td>\n",
       "      <td>...</td>\n",
       "      <td>INR</td>\n",
       "      <td>574.00</td>\n",
       "      <td>CHENNAI</td>\n",
       "      <td>TAMIL NADU</td>\n",
       "      <td>600073.0</td>\n",
       "      <td>IN</td>\n",
       "      <td>NaN</td>\n",
       "      <td>False</td>\n",
       "      <td>NaN</td>\n",
       "      <td>NaN</td>\n",
       "    </tr>\n",
       "  </tbody>\n",
       "</table>\n",
       "<p>5 rows × 24 columns</p>\n",
       "</div>"
      ],
      "text/plain": [
       "   index             Order ID      Date                        Status  \\\n",
       "0      0  405-8078784-5731545  04-30-22                     Cancelled   \n",
       "1      1  171-9198151-1101146  04-30-22  Shipped - Delivered to Buyer   \n",
       "2      2  404-0687676-7273146  04-30-22                       Shipped   \n",
       "3      3  403-9615377-8133951  04-30-22                     Cancelled   \n",
       "4      4  407-1069790-7240320  04-30-22                       Shipped   \n",
       "\n",
       "  Fulfilment Sales Channel  ship-service-level    Style              SKU  \\\n",
       "0   Merchant      Amazon.in           Standard   SET389   SET389-KR-NP-S   \n",
       "1   Merchant      Amazon.in           Standard  JNE3781  JNE3781-KR-XXXL   \n",
       "2     Amazon      Amazon.in          Expedited  JNE3371    JNE3371-KR-XL   \n",
       "3   Merchant      Amazon.in           Standard    J0341       J0341-DR-L   \n",
       "4     Amazon      Amazon.in          Expedited  JNE3671  JNE3671-TU-XXXL   \n",
       "\n",
       "        Category  ... currency  Amount    ship-city   ship-state  \\\n",
       "0            Set  ...      INR  647.62       MUMBAI  MAHARASHTRA   \n",
       "1          kurta  ...      INR  406.00    BENGALURU    KARNATAKA   \n",
       "2          kurta  ...      INR  329.00  NAVI MUMBAI  MAHARASHTRA   \n",
       "3  Western Dress  ...      INR  753.33   PUDUCHERRY   PUDUCHERRY   \n",
       "4            Top  ...      INR  574.00      CHENNAI   TAMIL NADU   \n",
       "\n",
       "  ship-postal-code  ship-country  \\\n",
       "0         400081.0            IN   \n",
       "1         560085.0            IN   \n",
       "2         410210.0            IN   \n",
       "3         605008.0            IN   \n",
       "4         600073.0            IN   \n",
       "\n",
       "                                       promotion-ids    B2B  fulfilled-by  \\\n",
       "0                                                NaN  False     Easy Ship   \n",
       "1  Amazon PLCC Free-Financing Universal Merchant ...  False     Easy Ship   \n",
       "2       IN Core Free Shipping 2015/04/08 23-48-5-108   True           NaN   \n",
       "3                                                NaN  False     Easy Ship   \n",
       "4                                                NaN  False           NaN   \n",
       "\n",
       "  Unnamed: 22  \n",
       "0         NaN  \n",
       "1         NaN  \n",
       "2         NaN  \n",
       "3         NaN  \n",
       "4         NaN  \n",
       "\n",
       "[5 rows x 24 columns]"
      ]
     },
     "execution_count": 3,
     "metadata": {},
     "output_type": "execute_result"
    }
   ],
   "source": [
    "df.head()"
   ]
  },
  {
   "cell_type": "code",
   "execution_count": 4,
   "id": "e49cefe6-04a5-4ec2-b4d4-ab033fe544dc",
   "metadata": {},
   "outputs": [
    {
     "name": "stdout",
     "output_type": "stream",
     "text": [
      "<class 'pandas.core.frame.DataFrame'>\n",
      "RangeIndex: 128975 entries, 0 to 128974\n",
      "Data columns (total 24 columns):\n",
      " #   Column              Non-Null Count   Dtype  \n",
      "---  ------              --------------   -----  \n",
      " 0   index               128975 non-null  int64  \n",
      " 1   Order ID            128975 non-null  object \n",
      " 2   Date                128975 non-null  object \n",
      " 3   Status              128975 non-null  object \n",
      " 4   Fulfilment          128975 non-null  object \n",
      " 5   Sales Channel       128975 non-null  object \n",
      " 6   ship-service-level  128975 non-null  object \n",
      " 7   Style               128975 non-null  object \n",
      " 8   SKU                 128975 non-null  object \n",
      " 9   Category            128975 non-null  object \n",
      " 10  Size                128975 non-null  object \n",
      " 11  ASIN                128975 non-null  object \n",
      " 12  Courier Status      122103 non-null  object \n",
      " 13  Qty                 128975 non-null  int64  \n",
      " 14  currency            121180 non-null  object \n",
      " 15  Amount              121180 non-null  float64\n",
      " 16  ship-city           128942 non-null  object \n",
      " 17  ship-state          128942 non-null  object \n",
      " 18  ship-postal-code    128942 non-null  float64\n",
      " 19  ship-country        128942 non-null  object \n",
      " 20  promotion-ids       79822 non-null   object \n",
      " 21  B2B                 128975 non-null  bool   \n",
      " 22  fulfilled-by        39277 non-null   object \n",
      " 23  Unnamed: 22         79925 non-null   object \n",
      "dtypes: bool(1), float64(2), int64(2), object(19)\n",
      "memory usage: 22.8+ MB\n"
     ]
    }
   ],
   "source": [
    "df.info()"
   ]
  },
  {
   "cell_type": "code",
   "execution_count": 5,
   "id": "6544c1be-8efe-4abd-a36a-d1a70a6605d0",
   "metadata": {},
   "outputs": [
    {
     "data": {
      "text/plain": [
       "index                     0\n",
       "Order ID                  0\n",
       "Date                      0\n",
       "Status                    0\n",
       "Fulfilment                0\n",
       "Sales Channel             0\n",
       "ship-service-level        0\n",
       "Style                     0\n",
       "SKU                       0\n",
       "Category                  0\n",
       "Size                      0\n",
       "ASIN                      0\n",
       "Courier Status         6872\n",
       "Qty                       0\n",
       "currency               7795\n",
       "Amount                 7795\n",
       "ship-city                33\n",
       "ship-state               33\n",
       "ship-postal-code         33\n",
       "ship-country             33\n",
       "promotion-ids         49153\n",
       "B2B                       0\n",
       "fulfilled-by          89698\n",
       "Unnamed: 22           49050\n",
       "dtype: int64"
      ]
     },
     "execution_count": 5,
     "metadata": {},
     "output_type": "execute_result"
    }
   ],
   "source": [
    "df.isnull().sum()"
   ]
  },
  {
   "cell_type": "markdown",
   "id": "3113164d-b124-4001-8309-2c3168f4ddd0",
   "metadata": {},
   "source": [
    "Cleane Data"
   ]
  },
  {
   "cell_type": "code",
   "execution_count": 6,
   "id": "97d41dd0-97fa-4bc7-bf33-8bfe0b1bc91c",
   "metadata": {},
   "outputs": [
    {
     "name": "stderr",
     "output_type": "stream",
     "text": [
      "C:\\Users\\j s\\AppData\\Local\\Temp\\ipykernel_8764\\2554602042.py:1: UserWarning: Could not infer format, so each element will be parsed individually, falling back to `dateutil`. To ensure parsing is consistent and as-expected, please specify a format.\n",
      "  df[\"Date\"] = pd.to_datetime(df[\"Date\"], errors='coerce')\n"
     ]
    }
   ],
   "source": [
    "df[\"Date\"] = pd.to_datetime(df[\"Date\"], errors='coerce')"
   ]
  },
  {
   "cell_type": "code",
   "execution_count": 7,
   "id": "0b72c5ae-a0c3-40a3-8215-c681aeb3609e",
   "metadata": {},
   "outputs": [],
   "source": [
    "# Clean data: Remove rows with null Amount and 'Cancelled' status\n",
    "df_cleaned = df.dropna(subset=['Amount'])\n",
    "df_cleaned = df_cleaned[df_cleaned['Status'].str.lower() != 'cancelled']"
   ]
  },
  {
   "cell_type": "code",
   "execution_count": 8,
   "id": "eb396dd4-f772-40b7-ace3-126e3798b23f",
   "metadata": {},
   "outputs": [],
   "source": [
    "\n",
    "df_cleaned = df_cleaned[[\n",
    "    'Date', 'Status', 'Fulfilment', 'Qty', 'SKU',\n",
    "    'Category', 'Amount','ship-country', 'ship-state', 'B2B'\n",
    "]]"
   ]
  },
  {
   "cell_type": "code",
   "execution_count": 9,
   "id": "7859b153-cd0c-4706-af27-125aeacde135",
   "metadata": {},
   "outputs": [
    {
     "data": {
      "text/plain": [
       "Date             0\n",
       "Status           0\n",
       "Fulfilment       0\n",
       "Qty              0\n",
       "SKU              0\n",
       "Category         0\n",
       "Amount           0\n",
       "ship-country    26\n",
       "ship-state      26\n",
       "B2B              0\n",
       "dtype: int64"
      ]
     },
     "execution_count": 9,
     "metadata": {},
     "output_type": "execute_result"
    }
   ],
   "source": [
    "df_cleaned.isnull().sum()\n"
   ]
  },
  {
   "cell_type": "code",
   "execution_count": 10,
   "id": "be0ffcb7-2be1-439f-8efe-6e639143e321",
   "metadata": {},
   "outputs": [
    {
     "name": "stdout",
     "output_type": "stream",
     "text": [
      "<class 'pandas.core.frame.DataFrame'>\n",
      "Index: 110414 entries, 1 to 128974\n",
      "Data columns (total 10 columns):\n",
      " #   Column        Non-Null Count   Dtype         \n",
      "---  ------        --------------   -----         \n",
      " 0   Date          110414 non-null  datetime64[ns]\n",
      " 1   Status        110414 non-null  object        \n",
      " 2   Fulfilment    110414 non-null  object        \n",
      " 3   Qty           110414 non-null  int64         \n",
      " 4   SKU           110414 non-null  object        \n",
      " 5   Category      110414 non-null  object        \n",
      " 6   Amount        110414 non-null  float64       \n",
      " 7   ship-country  110388 non-null  object        \n",
      " 8   ship-state    110388 non-null  object        \n",
      " 9   B2B           110414 non-null  bool          \n",
      "dtypes: bool(1), datetime64[ns](1), float64(1), int64(1), object(6)\n",
      "memory usage: 8.5+ MB\n"
     ]
    }
   ],
   "source": [
    "df_cleaned.info()"
   ]
  },
  {
   "cell_type": "code",
   "execution_count": 11,
   "id": "57b770e1-e438-4203-bead-b8a76634d58f",
   "metadata": {},
   "outputs": [
    {
     "data": {
      "text/html": [
       "<div>\n",
       "<style scoped>\n",
       "    .dataframe tbody tr th:only-of-type {\n",
       "        vertical-align: middle;\n",
       "    }\n",
       "\n",
       "    .dataframe tbody tr th {\n",
       "        vertical-align: top;\n",
       "    }\n",
       "\n",
       "    .dataframe thead th {\n",
       "        text-align: right;\n",
       "    }\n",
       "</style>\n",
       "<table border=\"1\" class=\"dataframe\">\n",
       "  <thead>\n",
       "    <tr style=\"text-align: right;\">\n",
       "      <th></th>\n",
       "      <th>Date</th>\n",
       "      <th>Status</th>\n",
       "      <th>Fulfilment</th>\n",
       "      <th>Qty</th>\n",
       "      <th>SKU</th>\n",
       "      <th>Category</th>\n",
       "      <th>Amount</th>\n",
       "      <th>ship-country</th>\n",
       "      <th>ship-state</th>\n",
       "      <th>B2B</th>\n",
       "    </tr>\n",
       "  </thead>\n",
       "  <tbody>\n",
       "    <tr>\n",
       "      <th>1</th>\n",
       "      <td>2022-04-30</td>\n",
       "      <td>Shipped - Delivered to Buyer</td>\n",
       "      <td>Merchant</td>\n",
       "      <td>1</td>\n",
       "      <td>JNE3781-KR-XXXL</td>\n",
       "      <td>kurta</td>\n",
       "      <td>406.0</td>\n",
       "      <td>IN</td>\n",
       "      <td>KARNATAKA</td>\n",
       "      <td>False</td>\n",
       "    </tr>\n",
       "    <tr>\n",
       "      <th>2</th>\n",
       "      <td>2022-04-30</td>\n",
       "      <td>Shipped</td>\n",
       "      <td>Amazon</td>\n",
       "      <td>1</td>\n",
       "      <td>JNE3371-KR-XL</td>\n",
       "      <td>kurta</td>\n",
       "      <td>329.0</td>\n",
       "      <td>IN</td>\n",
       "      <td>MAHARASHTRA</td>\n",
       "      <td>True</td>\n",
       "    </tr>\n",
       "    <tr>\n",
       "      <th>4</th>\n",
       "      <td>2022-04-30</td>\n",
       "      <td>Shipped</td>\n",
       "      <td>Amazon</td>\n",
       "      <td>1</td>\n",
       "      <td>JNE3671-TU-XXXL</td>\n",
       "      <td>Top</td>\n",
       "      <td>574.0</td>\n",
       "      <td>IN</td>\n",
       "      <td>TAMIL NADU</td>\n",
       "      <td>False</td>\n",
       "    </tr>\n",
       "    <tr>\n",
       "      <th>5</th>\n",
       "      <td>2022-04-30</td>\n",
       "      <td>Shipped</td>\n",
       "      <td>Amazon</td>\n",
       "      <td>1</td>\n",
       "      <td>SET264-KR-NP-XL</td>\n",
       "      <td>Set</td>\n",
       "      <td>824.0</td>\n",
       "      <td>IN</td>\n",
       "      <td>UTTAR PRADESH</td>\n",
       "      <td>False</td>\n",
       "    </tr>\n",
       "    <tr>\n",
       "      <th>6</th>\n",
       "      <td>2022-04-30</td>\n",
       "      <td>Shipped</td>\n",
       "      <td>Amazon</td>\n",
       "      <td>1</td>\n",
       "      <td>J0095-SET-L</td>\n",
       "      <td>Set</td>\n",
       "      <td>653.0</td>\n",
       "      <td>IN</td>\n",
       "      <td>CHANDIGARH</td>\n",
       "      <td>False</td>\n",
       "    </tr>\n",
       "  </tbody>\n",
       "</table>\n",
       "</div>"
      ],
      "text/plain": [
       "        Date                        Status Fulfilment  Qty              SKU  \\\n",
       "1 2022-04-30  Shipped - Delivered to Buyer   Merchant    1  JNE3781-KR-XXXL   \n",
       "2 2022-04-30                       Shipped     Amazon    1    JNE3371-KR-XL   \n",
       "4 2022-04-30                       Shipped     Amazon    1  JNE3671-TU-XXXL   \n",
       "5 2022-04-30                       Shipped     Amazon    1  SET264-KR-NP-XL   \n",
       "6 2022-04-30                       Shipped     Amazon    1      J0095-SET-L   \n",
       "\n",
       "  Category  Amount ship-country     ship-state    B2B  \n",
       "1    kurta   406.0           IN      KARNATAKA  False  \n",
       "2    kurta   329.0           IN    MAHARASHTRA   True  \n",
       "4      Top   574.0           IN     TAMIL NADU  False  \n",
       "5      Set   824.0           IN  UTTAR PRADESH  False  \n",
       "6      Set   653.0           IN     CHANDIGARH  False  "
      ]
     },
     "execution_count": 11,
     "metadata": {},
     "output_type": "execute_result"
    }
   ],
   "source": [
    "df_cleaned.head()"
   ]
  },
  {
   "cell_type": "markdown",
   "id": "2b039d44-0795-4212-918a-3abbd0c918f3",
   "metadata": {},
   "source": [
    "Totel Revenue"
   ]
  },
  {
   "cell_type": "code",
   "execution_count": 12,
   "id": "87b1e837-70ed-4d50-86c6-533935c86f04",
   "metadata": {},
   "outputs": [
    {
     "name": "stdout",
     "output_type": "stream",
     "text": [
      "Total Revenue Generated :  71673394.0\n"
     ]
    }
   ],
   "source": [
    "tr = df_cleaned[\"Amount\"].sum()\n",
    "print(\"Total Revenue Generated : \", round(tr,2))"
   ]
  },
  {
   "cell_type": "code",
   "execution_count": 13,
   "id": "c32e2c2c-9a8d-4e1d-90b4-9a20d8d24ab5",
   "metadata": {},
   "outputs": [
    {
     "name": "stdout",
     "output_type": "stream",
     "text": [
      "Revenue by Category \n",
      "               total_sales\n",
      "Category                  \n",
      "Set             35731673.0\n",
      "kurta           19425870.0\n",
      "Western Dress   10209590.0\n",
      "Top              4904066.0\n",
      "Ethnic Dress      732744.0\n",
      "Blouse            418389.0\n",
      "Bottom            135453.0\n",
      "Saree             114694.0\n",
      "Dupatta              915.0\n"
     ]
    }
   ],
   "source": [
    "top_categories = df_cleaned.groupby(\"Category\").agg(total_sales=('Amount', 'sum'))\n",
    "top_categories = top_categories.sort_values(by='total_sales', ascending=False)\n",
    "\n",
    "print(\"Revenue by Category \")\n",
    "print(top_categories)\n"
   ]
  },
  {
   "cell_type": "code",
   "execution_count": 14,
   "id": "6fef8451-24d5-47d5-85e9-407fadc56ef6",
   "metadata": {},
   "outputs": [
    {
     "name": "stdout",
     "output_type": "stream",
     "text": [
      "Category\n",
      "Set              39204124.03\n",
      "kurta            21299546.70\n",
      "Western Dress    11216072.69\n",
      "Top               5347792.30\n",
      "Ethnic Dress       791217.66\n",
      "Name: Amount, dtype: float64\n"
     ]
    },
    {
     "data": {
      "image/png": "[encoded data removed]",
      "text/plain": [
       "<Figure size 1000x600 with 1 Axes>"
      ]
     },
     "metadata": {},
     "output_type": "display_data"
    }
   ],
   "source": [
    "top_categories = df.groupby('Category')['Amount'].sum().sort_values(ascending=False).head()\n",
    "print(top_categories.head(10))\n",
    "plt.figure(figsize=(10,6))\n",
    "sns.barplot(y=top_categories.values,x=top_categories.index)\n",
    "plt.title(\"Top 5 Categories by Sales\")\n",
    "plt.xlabel(\"Total Sales (INR)\")\n",
    "plt.ylabel(\"Category\")\n",
    "\n",
    "plt.show()"
   ]
  },
  {
   "cell_type": "code",
   "execution_count": 15,
   "id": "b7a4ef8a-4b67-41a8-a415-878d86af01dc",
   "metadata": {},
   "outputs": [
    {
     "name": "stdout",
     "output_type": "stream",
     "text": [
      "Top Sealing Product:\n",
      "Category\n",
      "Set              42843\n",
      "kurta            42522\n",
      "Western Dress    13369\n",
      "Top               9336\n",
      "Ethnic Dress      1013\n",
      "Name: SKU, dtype: int64\n"
     ]
    },
    {
     "data": {
      "image/png": "[encoded data removed]",
      "text/plain": [
       "<Figure size 800x800 with 1 Axes>"
      ]
     },
     "metadata": {},
     "output_type": "display_data"
    }
   ],
   "source": [
    "topsalingproduct = df_cleaned.groupby(\"Category\")[\"SKU\"].count().sort_values(ascending = False).head()\n",
    "print(\"Top Sealing Product:\")\n",
    "print(topsalingproduct)\n",
    "\n",
    "plt.figure(figsize=(8,8))\n",
    "plt.title(\"Top Saling Products\")\n",
    "plt.pie(topsalingproduct,\n",
    "        labels=topsalingproduct.index,\n",
    "        shadow=True,\n",
    "        autopct='%1.1f%%',\n",
    "        colors=plt.cm.tab20.colors\n",
    ")\n",
    "\n",
    "plt.show()"
   ]
  },
  {
   "cell_type": "markdown",
   "id": "f2a78213-3eef-4bd4-9b63-1603c4cf9d4b",
   "metadata": {},
   "source": [
    "Revenue By Region"
   ]
  },
  {
   "cell_type": "code",
   "execution_count": 16,
   "id": "063bacf9-ce6d-4749-a8f2-d1302aab9d72",
   "metadata": {},
   "outputs": [
    {
     "name": "stdout",
     "output_type": "stream",
     "text": [
      "ship-state\n",
      "MAHARASHTRA       12224770.0\n",
      "KARNATAKA          9649981.0\n",
      "TELANGANA          6290128.0\n",
      "UTTAR PRADESH      6186656.0\n",
      "TAMIL NADU         5954349.0\n",
      "DELHI              3906089.0\n",
      "KERALA             3377321.0\n",
      "WEST BENGAL        3207213.0\n",
      "ANDHRA PRADESH     2882206.0\n",
      "HARYANA            2654274.0\n",
      "Name: Amount, dtype: float64\n"
     ]
    },
    {
     "data": {
      "text/plain": [
       "[<matplotlib.lines.Line2D at 0x29f88cbb750>]"
      ]
     },
     "execution_count": 16,
     "metadata": {},
     "output_type": "execute_result"
    },
    {
     "data": {
      "image/png": "[encoded data removed]",
      "text/plain": [
       "<Figure size 1000x800 with 1 Axes>"
      ]
     },
     "metadata": {},
     "output_type": "display_data"
    }
   ],
   "source": [
    "rbr = df_cleaned.groupby(\"ship-state\")[\"Amount\"].sum().sort_values(ascending = False).head(10)\n",
    "print(rbr)\n",
    "plt.figure(figsize=(10,8))\n",
    "plt.xticks(rotation=45)\n",
    "plt.xlabel(\"stats\")\n",
    "plt.title(\"Top 10 Revenue By Stats\")\n",
    "plt.ylabel(\"Revenue\")\n",
    "plt.plot(rbr.sort_values(),marker=\"o\",color=\"red\")\n",
    "# plt.show()"
   ]
  },
  {
   "cell_type": "code",
   "execution_count": 17,
   "id": "31936e38-8d58-40c5-a5c0-329937f5026e",
   "metadata": {},
   "outputs": [
    {
     "name": "stdout",
     "output_type": "stream",
     "text": [
      "Status\n",
      "Shipped                          77596\n",
      "Shipped - Delivered to Buyer     28761\n",
      "Shipped - Returned to Seller      1950\n",
      "Shipped - Picked Up                973\n",
      "Pending                            656\n",
      "Pending - Waiting for Pick Up      281\n",
      "Shipped - Returning to Seller      145\n",
      "Shipped - Out for Delivery          35\n",
      "Shipped - Rejected by Buyer         11\n",
      "Shipped - Lost in Transit            5\n",
      "Shipped - Damaged                    1\n",
      "Name: SKU, dtype: int64\n"
     ]
    }
   ],
   "source": [
    "orderstate = df_cleaned.groupby(\"Status\")[\"SKU\"].count().sort_values(ascending = False)\n",
    "print(orderstate)"
   ]
  },
  {
   "cell_type": "code",
   "execution_count": 18,
   "id": "a9a121ff-2f65-4eb4-b945-15475321faa5",
   "metadata": {},
   "outputs": [
    {
     "name": "stdout",
     "output_type": "stream",
     "text": [
      "Fulfilment\n",
      "Amazon      78264\n",
      "Merchant    32562\n",
      "Name: Qty, dtype: int64\n"
     ]
    }
   ],
   "source": [
    "A_M = df_cleaned.groupby(\"Fulfilment\")[\"Qty\"].sum().sort_values(ascending = False)\n",
    "print(A_M)"
   ]
  },
  {
   "cell_type": "code",
   "execution_count": 19,
   "id": "c4a670e6-2ab9-4a38-81aa-49b4af9503c5",
   "metadata": {},
   "outputs": [
    {
     "name": "stdout",
     "output_type": "stream",
     "text": [
      "\n",
      "Top 5 Products by Quantity Sold:\n",
      " SKU\n",
      "JNE3797-KR-L    647\n",
      "JNE3797-KR-M    555\n",
      "JNE3797-KR-S    489\n",
      "JNE3405-KR-L    447\n",
      "J0230-SKD-M     435\n",
      "Name: Qty, dtype: int64\n"
     ]
    }
   ],
   "source": [
    "top_qty = df_cleaned.groupby('SKU')['Qty'].sum().sort_values(ascending=False)\n",
    "print(\"\\nTop 5 Products by Quantity Sold:\\n\", top_qty.head(5))"
   ]
  },
  {
   "cell_type": "code",
   "execution_count": 34,
   "id": "58dbb77e-f584-489f-99d0-adf93cfffd91",
   "metadata": {},
   "outputs": [
    {
     "name": "stdout",
     "output_type": "stream",
     "text": [
      "\n",
      "Monthly Sales Trend:\n",
      " Date\n",
      "2022-03       94810.0\n",
      "2022-04    26234520.0\n",
      "2022-05    23953534.0\n",
      "2022-06    21390530.0\n",
      "Freq: M, Name: Amount, dtype: float64\n"
     ]
    },
    {
     "data": {
      "image/png": "[encoded data removed]",
      "text/plain": [
       "<Figure size 640x480 with 1 Axes>"
      ]
     },
     "metadata": {},
     "output_type": "display_data"
    }
   ],
   "source": [
    "monthly_sales = df_cleaned.groupby(df_cleaned['Date'].dt.to_period('M'))['Amount'].sum()\n",
    "print(\"\\nMonthly Sales Trend:\\n\", monthly_sales)\n",
    "\n",
    "plt.bar(monthly_sales.index.astype(str),monthly_sales.values,color=\"green\")\n",
    "plt.title(\"Monthly Sales\")\n",
    "plt.xlabel(\"Months\")\n",
    "plt.ylabel(\"Sales\")\n",
    "plt.show()"
   ]
  },
  {
   "cell_type": "markdown",
   "id": "1c157566-431f-4888-9580-85e714aad2eb",
   "metadata": {},
   "source": [
    "Top saling month is April 2022"
   ]
  },
  {
   "cell_type": "code",
   "execution_count": 21,
   "id": "757ccd66-32d6-4b11-a0d4-4b02d7d41f40",
   "metadata": {},
   "outputs": [
    {
     "name": "stdout",
     "output_type": "stream",
     "text": [
      "Order Status Breakdown (%):\n",
      " Status\n",
      "Shipped                          70.28\n",
      "Shipped - Delivered to Buyer     26.05\n",
      "Shipped - Returned to Seller      1.77\n",
      "Shipped - Picked Up               0.88\n",
      "Pending                           0.59\n",
      "Pending - Waiting for Pick Up     0.25\n",
      "Shipped - Returning to Seller     0.13\n",
      "Shipped - Out for Delivery        0.03\n",
      "Shipped - Rejected by Buyer       0.01\n",
      "Shipped - Lost in Transit         0.00\n",
      "Shipped - Damaged                 0.00\n",
      "Name: proportion, dtype: float64\n"
     ]
    }
   ],
   "source": [
    "order_status = df_cleaned['Status'].value_counts(normalize=True) * 100\n",
    "print(\"Order Status Breakdown (%):\\n\", order_status.round(2))"
   ]
  },
  {
   "cell_type": "code",
   "execution_count": 22,
   "id": "fa7be873-89e8-4431-ba51-806d4e481f84",
   "metadata": {},
   "outputs": [
    {
     "name": "stdout",
     "output_type": "stream",
     "text": [
      "\n",
      "Delivery Status by Fulfilment:\n",
      " Status      Pending  Pending - Waiting for Pick Up  Shipped  \\\n",
      "Fulfilment                                                    \n",
      "Amazon          413                              0    77596   \n",
      "Merchant        243                            281        0   \n",
      "\n",
      "Status      Shipped - Damaged  Shipped - Delivered to Buyer  \\\n",
      "Fulfilment                                                    \n",
      "Amazon                      0                             0   \n",
      "Merchant                    1                         28761   \n",
      "\n",
      "Status      Shipped - Lost in Transit  Shipped - Out for Delivery  \\\n",
      "Fulfilment                                                          \n",
      "Amazon                              0                           0   \n",
      "Merchant                            5                          35   \n",
      "\n",
      "Status      Shipped - Picked Up  Shipped - Rejected by Buyer  \\\n",
      "Fulfilment                                                     \n",
      "Amazon                        0                            0   \n",
      "Merchant                    973                           11   \n",
      "\n",
      "Status      Shipped - Returned to Seller  Shipped - Returning to Seller  \n",
      "Fulfilment                                                               \n",
      "Amazon                                 0                              0  \n",
      "Merchant                            1950                            145  \n"
     ]
    }
   ],
   "source": [
    "delivery_by_fulfilment = df_cleaned.groupby(['Fulfilment', 'Status']).size().unstack(fill_value=0)\n",
    "print(\"\\nDelivery Status by Fulfilment:\\n\", delivery_by_fulfilment)"
   ]
  },
  {
   "cell_type": "code",
   "execution_count": 23,
   "id": "f2c6722b-3eed-4833-ba32-f34c258cf998",
   "metadata": {},
   "outputs": [
    {
     "name": "stdout",
     "output_type": "stream",
     "text": [
      "\n",
      "B2B vs Consumer Stats:\n",
      "         count         sum        mean\n",
      "B2B                                  \n",
      "False  109617  71113994.0  648.749683\n",
      "True      797    559400.0  701.882058\n"
     ]
    }
   ],
   "source": [
    "b2b_stats = df_cleaned.groupby('B2B')['Amount'].agg(['count', 'sum', 'mean'])\n",
    "print(\"\\nB2B vs Consumer Stats:\\n\", b2b_stats)"
   ]
  },
  {
   "cell_type": "code",
   "execution_count": null,
   "id": "4fa074ee-424b-40e2-95de-69f50c09737c",
   "metadata": {},
   "outputs": [],
   "source": []
  },
  {
   "cell_type": "markdown",
   "id": "b00eee9d-9dc5-4c0e-ae9f-891b18158d37",
   "metadata": {},
   "source": [
    "Total Revenue: ₹71,673,394\n",
    "\n",
    "Top Categories by Revenue:\n",
    "\n",
    "Set – ₹35.7M\n",
    "\n",
    "Kurta – ₹19.4M\n",
    "\n",
    "Western Dress – ₹10.2M\n",
    "\n",
    "Top Selling States: Maharashtra, Karnataka, Telangana\n",
    "\n",
    "Top Products (by Quantity): JNE3797-KR-L, JNE3797-KR-M, etc.\n",
    "\n",
    "Peak Sales Month: April 2022\n",
    "\n",
    "B2B Sales: Contributed ₹559K from 797 orders (avg ₹701/order)"
   ]
  },
  {
   "cell_type": "code",
   "execution_count": null,
   "id": "5b42ae4a-3fac-49d3-9753-9acf86a2ef2f",
   "metadata": {},
   "outputs": [],
   "source": []
  }
 ],
 "metadata": {
  "kernelspec": {
   "display_name": "Python 3 (ipykernel)",
   "language": "python",
   "name": "python3"
  },
  "language_info": {
   "codemirror_mode": {
    "name": "ipython",
    "version": 3
   },
   "file_extension": ".py",
   "mimetype": "text/x-python",
   "name": "python",
   "nbconvert_exporter": "python",
   "pygments_lexer": "ipython3",
   "version": "3.13.4"
  },
  "widgets": {
   "application/vnd.jupyter.widget-state+json": {
    "state": {},
    "version_major": 2,
    "version_minor": 0
   }
  }
 },
 "nbformat": 4,
 "nbformat_minor": 5
}
